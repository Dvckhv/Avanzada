{
 "cells": [
  {
   "cell_type": "markdown",
   "metadata": {},
   "source": [
    "<p>\n",
    "<font size='5' face='Georgia, Arial'>IIC-2233 Apunte Programación Avanzada</font><br>\n",
    "<font size='1'> Ejercicios creados a partir de 2019-2 por Equipo Docente IIC2233. </font>\n",
    "<font size='1'> Actualizados en 2020-1.</font>\n",
    "</p>\n",
    "\n",
    "\n",
    "# Ejercicios propuestos: Estructuras nodales I"
   ]
  },
  {
   "cell_type": "markdown",
   "metadata": {},
   "source": [
    "Los siguientes problemas se proveen como oportunidad de ejercitar los conceptos revisados en el material de estructuras nodales I. Si tienes dudas sobre algún problema o alguna solución, no dudes en dejar una *issue* en el [foro del curso](https://github.com/IIC2233/syllabus/issues).\n",
    "\n",
    "Los ejercicios se subdividen según la numeración de los cuadernos de la semana. Algunos de ellos se referencian desde los cuadernos de material mismo, mientras que pueden haber otros adicionales para mayor ejercitación."
   ]
  },
  {
   "cell_type": "markdown",
   "metadata": {},
   "source": [
    "## 1. Listas ligadas"
   ]
  },
  {
   "cell_type": "markdown",
   "metadata": {},
   "source": [
    "### Ejercicio 1.1: Cadenas de texto aleatorias"
   ]
  },
  {
   "cell_type": "markdown",
   "metadata": {},
   "source": [
    "En este ejercicio, deberás terminar de implementar una clase propuesta, modelada como una lista ligada. \n",
    "\n",
    "La clase `TextoAleatorio`, reprenta una cadena de texto (como los *strings*), pero que simplemente se genera a partir de caracteres aleatorios (clase `Caracter`). `TextoAleatorio` tiene ya implementada el método `agregar_nuevo_caracter` que agrega un nuevo caracter a la cadena de texto. \n",
    "\n",
    "Específicamente debes completar los métodos `__repr__` y `recorrer_texto` de `TextoAleatorio`.\n",
    "\n",
    "El primer método debe retornar como `str` la concatenación de los caracteres de la cadena según el orden en que fueron agregados, para que sea vista al usar `print` sobre el texto. Por el momento retorna la representación de objetos de siempre, así que puedes cambiar la línea que actualmente está implementada para retornar el resultado de la cadena como *string*.\n",
    "\n",
    "`recorrer_texto` por su parte itera por cada caracter de la cadena de texto e imprime un mensaje indicando la posición del caracter y su valor. Por ejemplo, para una cadena de texto de las letras `'M'`, `'A'` Y `'S'`, imprimiría:\n",
    "\n",
    "`En posición 0, el caracter es M`\n",
    "\n",
    "`En posición 1, el caracter es A`\n",
    "\n",
    "`En posición 2, el caracter es S`"
   ]
  },
  {
   "cell_type": "code",
   "execution_count": 1,
   "metadata": {},
   "outputs": [],
   "source": [
    "from random import choice\n",
    "from string import ascii_uppercase\n",
    "\n",
    "caracter_aleatorio = lambda: choice(ascii_uppercase)\n",
    "\n",
    "class Caracter:\n",
    "    def __init__(self):\n",
    "        self.valor = caracter_aleatorio()\n",
    "        self.siguiente = None\n",
    "    def __repr__(self):\n",
    "        if self.siguiente is not None:\n",
    "            return \" -> \"+self.valor+repr(self.siguiente) \n",
    "        else:\n",
    "            return \"\"\n",
    "\n",
    "        \n",
    "class TextoAleatorio:\n",
    "\n",
    "    def __init__(self):\n",
    "        self.primer_caracter = None\n",
    "        self.ultimo_caracter = None\n",
    "        \n",
    "    def agregar_nuevo_caracter(self):\n",
    "        nuevo = Caracter()\n",
    "        if self.primer_caracter is None:\n",
    "            self.primer_caracter = nuevo\n",
    "            self.ultimo_caracter = self.primer_caracter\n",
    "        else:\n",
    "            self.ultimo_caracter.siguiente = nuevo\n",
    "            self.ultimo_caracter = self.ultimo_caracter.siguiente        \n",
    "             \n",
    "    def __repr__(self):\n",
    "        '''Representa la concatenación de cada caracter de la cadena de texto'''\n",
    "        return repr(self.primer_caracter) # Reemplazar esta línea.\n",
    "    \n",
    "    def recorrer_texto(self):\n",
    "        '''Recorrer cada caracter imprimiendo su valor y posición'''\n",
    "        caracter = self.primer_caracter\n",
    "        print(caracter)\n",
    "        while self.ultimo_caracter != caracter:\n",
    "            caracter=caracter.siguiente\n",
    "            print(caracter)\n",
    "\n",
    "            "
   ]
  },
  {
   "cell_type": "code",
   "execution_count": 2,
   "metadata": {},
   "outputs": [
    {
     "name": "stdout",
     "output_type": "stream",
     "text": [
      "\n",
      " -> Q\n",
      " -> Q -> U\n",
      " -> Q -> U -> V\n",
      " -> Q -> U -> V -> B\n",
      " -> Q -> U -> V -> B -> W\n",
      " -> Q -> U -> V -> B -> W -> X\n",
      " -> Q -> U -> V -> B -> W -> X -> F\n",
      " -> Q -> U -> V -> B -> W -> X -> F -> P\n",
      " -> Q -> U -> V -> B -> W -> X -> F -> P\n",
      " -> U -> V -> B -> W -> X -> F -> P\n",
      " -> V -> B -> W -> X -> F -> P\n",
      " -> B -> W -> X -> F -> P\n",
      " -> W -> X -> F -> P\n",
      " -> X -> F -> P\n",
      " -> F -> P\n",
      " -> P\n",
      "\n"
     ]
    }
   ],
   "source": [
    "texto_1 = TextoAleatorio()\n",
    "texto_1.agregar_nuevo_caracter()\n",
    "print(texto_1)\n",
    "texto_1.agregar_nuevo_caracter()\n",
    "print(texto_1)\n",
    "texto_1.agregar_nuevo_caracter()\n",
    "print(texto_1)\n",
    "texto_1.agregar_nuevo_caracter()\n",
    "print(texto_1)\n",
    "texto_1.agregar_nuevo_caracter()\n",
    "print(texto_1)\n",
    "texto_1.agregar_nuevo_caracter()\n",
    "print(texto_1)\n",
    "texto_1.agregar_nuevo_caracter()\n",
    "print(texto_1)\n",
    "texto_1.agregar_nuevo_caracter()\n",
    "print(texto_1)\n",
    "texto_1.agregar_nuevo_caracter()\n",
    "print(texto_1)\n",
    "\n",
    "texto_1.recorrer_texto()"
   ]
  },
  {
   "cell_type": "markdown",
   "metadata": {},
   "source": [
    "### Ejercicio 1.2: Extendiendo `ListaLigada`"
   ]
  },
  {
   "cell_type": "markdown",
   "metadata": {},
   "source": [
    "En este ejercicio, se te incluye el ejemplo de la clase `ListaLigada` del material, pero con dos firmas de métodos que debes implementar: `__len__` y `remover`. \n",
    "\n",
    "`__len__` debe retornar un `int` que indique el largo actual de la lista ligada. Por otro lado, `remover` recibe como argumento una posición en la lista, y debe eliminar de la lista ligada el nodo que se encuentre en esa posición."
   ]
  },
  {
   "cell_type": "code",
   "execution_count": 3,
   "metadata": {},
   "outputs": [],
   "source": [
    "class Nodo:\n",
    "    def __init__(self, valor=None):\n",
    "        self.valor = valor\n",
    "        self.siguiente = None\n",
    "\n",
    "class ListaLigada:\n",
    "    \"\"\"Clase que representa una lista ligada\"\"\"\n",
    "\n",
    "    \n",
    "    def __init__(self):\n",
    "        \"\"\"Inicializa una lista ligada vacia, con una referencia nula a su cabeza y cola\"\"\"\n",
    "        self.cabeza = None\n",
    "        self.cola = None\n",
    "\n",
    "        \n",
    "    def agregar(self, valor):\n",
    "        \"\"\"Agrega un nodo al final de la cola, similar a lista.append\"\"\"\n",
    "        # Inicializamos el nuevo nodo\n",
    "        nuevo = Nodo(valor)\n",
    "        # Si la lista está vacía (no hay cabeza)\n",
    "        if self.cabeza is None:\n",
    "            # El nuevo nodo es la cabeza y el nodo cola de la lista\n",
    "            self.cabeza = nuevo\n",
    "            self.cola = self.cabeza\n",
    "        else:\n",
    "            # Agregamos el nuevo nodo como sucesor del nodo cola actual.\n",
    "            self.cola.siguiente = nuevo\n",
    "            # Actualizamos la referencia al nodo cola.\n",
    "            self.cola = self.cola.siguiente\n",
    "            \n",
    "    def obtener(self, posicion):\n",
    "        \"\"\"Busca el valor del nodo que está en la posición indicada, partiendo de 0\"\"\"\n",
    "        # Empezamos en la cabeza\n",
    "        nodo_actual = self.cabeza\n",
    "\n",
    "        # Recorremos secuencialmente la lista ligada siguiendo los punteros\n",
    "        # al nodo siguiente.\n",
    "        for _ in range(posicion):\n",
    "            # Revisamos que no se haya llegado al final de la lista\n",
    "            if nodo_actual is not None:\n",
    "                nodo_actual = nodo_actual.siguiente\n",
    "        \n",
    "        # Si buscamos una posición mayor a la longitud de la lista ligada\n",
    "        if nodo_actual is None:\n",
    "            return None # Retorna \"nada\"\n",
    "        return nodo_actual.valor\n",
    "    \n",
    "    def insertar(self, valor, posicion):\n",
    "        \"\"\"Inserta un valor nuevo en una posición arbitraria\"\"\"\n",
    "        # Inicializamos el nuevo nodo\n",
    "        nodo_nuevo = Nodo(valor)\n",
    "        # Empezamos en la cabeza\n",
    "        nodo_actual = self.cabeza\n",
    "        \n",
    "        # Caso particular: insertar en la cabeza\n",
    "        if posicion == 0:\n",
    "            # Actualizamos la cabeza\n",
    "            nodo_nuevo.siguiente = self.cabeza\n",
    "            self.cabeza = nodo_nuevo\n",
    "            # Caso más particular. Si la lista estaba vacia, actualizamos la cola\n",
    "            if nodo_nuevo.siguiente is None:\n",
    "                self.cola = nodo_nuevo\n",
    "            # Terminamos de ejecutar la función\n",
    "            return\n",
    "        \n",
    "        # Buscamos el nodo predecesor\n",
    "        for _ in range(posicion - 1):\n",
    "            if nodo_actual is not None:\n",
    "                nodo_actual = nodo_actual.siguiente\n",
    "\n",
    "        # Si encontramos el predecesor, actualizamos las referencias\n",
    "        if nodo_actual is not None:\n",
    "            # Si no lo hacemos en este orden perdemos la referencia\n",
    "            # al resto de la lista ligada\n",
    "            nodo_nuevo.siguiente = nodo_actual.siguiente        \n",
    "            nodo_actual.siguiente = nodo_nuevo\n",
    "            # Caso particular: si es que insertamos en la última posición\n",
    "            if nodo_nuevo.siguiente is None:\n",
    "                self.cola = nodo_nuevo\n",
    "\n",
    "                \n",
    "    def __repr__(self):\n",
    "        \"\"\"Forma una representación de la lista\"\"\"\n",
    "        string = \"\"\n",
    "        nodo_actual = self.cabeza\n",
    "        while nodo_actual is not None:\n",
    "            string = f\"{string}{nodo_actual.valor} → \"\n",
    "            nodo_actual = nodo_actual.siguiente\n",
    "        return string\n",
    "    \n",
    "    def __len__(self):\n",
    "        nodo_actual=self.cabeza\n",
    "        c=1\n",
    "        while nodo_actual!=self.cola:\n",
    "            nodo_actual=nodo_actual.siguiente\n",
    "            c+=1\n",
    "        # Haga su solución aquí\n",
    "        return c\n",
    "    \n",
    "    def remover(self, posicion):\n",
    "        if posicion==1:\n",
    "            self.cabeza=self.cabeza.siguiente\n",
    "            return\n",
    "        nodo_actual=self.cabeza\n",
    "        for _ in range(posicion-2):\n",
    "            nodo_actual=nodo_actual.siguiente\n",
    "\n",
    "        nodo_eliminar=nodo_actual.siguiente\n",
    "        nodo_actual.siguiente=nodo_eliminar.siguiente\n",
    "        nodo_eliminar.siguiente=None\n",
    "\n"
   ]
  },
  {
   "cell_type": "markdown",
   "metadata": {},
   "source": [
    "Un ejemplo para probar tu solución:"
   ]
  },
  {
   "cell_type": "code",
   "execution_count": 4,
   "metadata": {},
   "outputs": [
    {
     "name": "stdout",
     "output_type": "stream",
     "text": [
      "5 → \n",
      "5 → 8 → \n",
      "5 → 6 → 8 → \n",
      "5 → 6 → 7 → 8 → \n",
      "5 → 6 → 7 → 8 → 9 → \n",
      "5 → 6 → 7 → 8 → 9 → 10 → \n"
     ]
    }
   ],
   "source": [
    "mi_lista = ListaLigada()\n",
    "mi_lista.insertar(5, 0)\n",
    "print(mi_lista)\n",
    "mi_lista.agregar(8)\n",
    "print(mi_lista)\n",
    "mi_lista.insertar(6, 1)\n",
    "print(mi_lista)\n",
    "mi_lista.insertar(7, 2)\n",
    "print(mi_lista)\n",
    "mi_lista.agregar(9)\n",
    "print(mi_lista)\n",
    "mi_lista.agregar(10)\n",
    "print(mi_lista)"
   ]
  },
  {
   "cell_type": "code",
   "execution_count": 5,
   "metadata": {},
   "outputs": [
    {
     "name": "stdout",
     "output_type": "stream",
     "text": [
      "6\n"
     ]
    }
   ],
   "source": [
    "print(len(mi_lista)) "
   ]
  },
  {
   "cell_type": "code",
   "execution_count": 6,
   "metadata": {},
   "outputs": [
    {
     "name": "stdout",
     "output_type": "stream",
     "text": [
      "5 → 6 → 8 → 9 → 10 → \n",
      "5\n"
     ]
    }
   ],
   "source": [
    "mi_lista.remover(3)\n",
    "print(mi_lista)\n",
    "print(len(mi_lista)) "
   ]
  },
  {
   "cell_type": "markdown",
   "metadata": {},
   "source": [
    "### Ejercicio 1.3: Listas ligadas ordenadas"
   ]
  },
  {
   "cell_type": "markdown",
   "metadata": {},
   "source": [
    "En este ejercicio se pide implementar una lista ligada que siempre esté ordenada crecientemente de acuerdo al valor de almacenado en sus nodos. Para lograr esto, basta con que cada vez que se desee insertar un nuevo nodo en la lista ligada, esta lo inserte en una posición que corresponda según su valor, de manera que se mantenga ordenada. De esta forma, la cabeza de la lista tiene siempre el valor más pequeño y la cola el valor más alto. \n",
    "\n",
    "Deberás completar el método `agregar` de la clase `ListaLigadaOrdenada`. Observa que no necesitamos el argumento `posicion` para agregar."
   ]
  },
  {
   "cell_type": "code",
   "execution_count": 7,
   "metadata": {},
   "outputs": [],
   "source": [
    "class Nodo:\n",
    "    \n",
    "    def __init__(self, valor=None):\n",
    "        self.valor = valor\n",
    "        self.siguiente = None \n",
    "\n",
    "\n",
    "class ListaLigadaOrdenada:\n",
    "    \n",
    "    def __init__(self):\n",
    "        self.cabeza = None\n",
    "        self.cola = None\n",
    "            \n",
    "            \n",
    "    def obtener(self, posicion):\n",
    "        nodo_actual = self.cabeza\n",
    "        for _ in range(posicion):\n",
    "            if nodo_actual is not None:\n",
    "                nodo_actual = nodo_actual.siguiente\n",
    "        \n",
    "        if nodo_actual is None:\n",
    "            return None \n",
    "        return nodo_actual.valor\n",
    "    \n",
    "    \n",
    "    def agregar(self, valor):\n",
    "        \"\"\" Completar aquí \"\"\"\n",
    "        nodo_nuevo = Nodo(valor)\n",
    "        insertado=False\n",
    "        nodo_actual=self.cabeza\n",
    "        if nodo_actual is None:\n",
    "            self.cabeza=nodo_nuevo\n",
    "            self.cola=nodo_nuevo\n",
    "            return\n",
    "        if nodo_nuevo.valor<nodo_actual.valor:\n",
    "            nodo_nuevo.siguiente=nodo_actual\n",
    "            self.cabeza=nodo_nuevo\n",
    "            return\n",
    "        while not insertado:\n",
    "            if nodo_actual is self.cola:\n",
    "                nodo_actual.siguiente=nodo_nuevo\n",
    "                self.cola=nodo_nuevo\n",
    "                print(\"cola\")\n",
    "                insertado=True\n",
    "            elif nodo_nuevo.valor<nodo_actual.siguiente.valor:\n",
    "                nodo_nuevo.siguiente=nodo_actual.siguiente\n",
    "                nodo_actual.siguiente=nodo_nuevo\n",
    "                insertado=True\n",
    "\n",
    "            else:\n",
    "                nodo_actual=nodo_actual.siguiente\n",
    "        return\n",
    "            \n",
    "    def __repr__(self):\n",
    "        string = \"\"\n",
    "        nodo_actual = self.cabeza\n",
    "        while nodo_actual is not None:\n",
    "            string = f\"{string}{nodo_actual.valor} → \"\n",
    "            nodo_actual = nodo_actual.siguiente\n",
    "        return string"
   ]
  },
  {
   "cell_type": "markdown",
   "metadata": {},
   "source": [
    "Puedes probar tu implementación con el siguiente código:"
   ]
  },
  {
   "cell_type": "code",
   "execution_count": 8,
   "metadata": {},
   "outputs": [
    {
     "name": "stdout",
     "output_type": "stream",
     "text": [
      "1 → \n",
      "cola\n",
      "1 → 3 → \n",
      "1 → 2 → 3 → \n",
      "1 → 2 → 2.5 → 3 → \n",
      "0 → 1 → 2 → 2.5 → 3 → \n"
     ]
    }
   ],
   "source": [
    "lista_ordenada = ListaLigadaOrdenada()\n",
    "lista_ordenada.agregar(1)\n",
    "print(lista_ordenada)\n",
    "lista_ordenada.agregar(3)\n",
    "print(lista_ordenada)\n",
    "lista_ordenada.agregar(2)\n",
    "print(lista_ordenada)\n",
    "lista_ordenada.agregar(2.5)\n",
    "print(lista_ordenada)\n",
    "lista_ordenada.agregar(0)\n",
    "print(lista_ordenada)"
   ]
  },
  {
   "cell_type": "markdown",
   "metadata": {},
   "source": [
    "## 2. Árboles"
   ]
  },
  {
   "cell_type": "markdown",
   "metadata": {},
   "source": [
    "### Ejercicio 2.1: El árbol del conejo malo."
   ]
  },
  {
   "cell_type": "markdown",
   "metadata": {},
   "source": [
    "En este ejercicio, se te incluye el ejemplo de la clase `Arbol` del material de estudio de esta semana, además de la función `cargar_contenido(ruta)` que carga un archivo CSV con el contenido a cargarse en un árbol:"
   ]
  },
  {
   "cell_type": "code",
   "execution_count": 9,
   "metadata": {},
   "outputs": [],
   "source": [
    "# textwrap tiene varias funciones convenientes para el manejo de strings\n",
    "from textwrap import indent\n",
    "\n",
    "class Arbol:\n",
    "    \"\"\"\n",
    "    Esta clase representa un árbol\n",
    "    \"\"\"\n",
    "\n",
    "    def __init__(self, id_nodo, valor=None, padre=None):\n",
    "        \"\"\"\n",
    "        Inicializa la estructura básica del árbol.\n",
    "        \n",
    "        Tiene un identificador propio, la referencia a su padre, el valor almacenado\n",
    "        y una estructura con sus hijos.\n",
    "        \"\"\"\n",
    "        self.id_nodo = id_nodo\n",
    "        self.padre = padre\n",
    "        self.valor = valor\n",
    "        self.hijos = {}\n",
    "        \n",
    "\n",
    "    def obtener_nodo(self, id_nodo):\n",
    "        \"\"\"\n",
    "        Obtiene el nodo con el id dado, en forma recursiva\n",
    "        \n",
    "        A partir del nodo actual, buscamos el nodo 'id_nodo' entre sus hijos\n",
    "        y lo retornamos si existe.\n",
    "        \"\"\"\n",
    "        # Caso base: ¡Lo encontramos!\n",
    "        if self.id_nodo == id_nodo:\n",
    "            return self\n",
    "\n",
    "        # Buscamos recursivamente entre los hijos\n",
    "        for hijo in self.hijos.values():\n",
    "            nodo = hijo.obtener_nodo(id_nodo)\n",
    "            # Si lo encontró, lo retornamos\n",
    "            if nodo is not None:\n",
    "                return nodo\n",
    "        \n",
    "        # Si no lo encuentra, retorna None\n",
    "        return None\n",
    "\n",
    "\n",
    "    def agregar_nodo(self, id_nodo, valor, id_padre):\n",
    "        \"\"\"Agrega un nodo con el id y valor dado, como hijo del nodo con el id 'id_padre'\"\"\"\n",
    "        # Primero, tenemos que encontrar al padre\n",
    "        padre = self.obtener_nodo(id_padre)\n",
    "        # En caso de que el padre no exista no hacemos nada\n",
    "        if padre is None:\n",
    "            return\n",
    "        \n",
    "        # Creamos el nodo\n",
    "        # Nos aseguramos de que el nodo nuevo sea del mismo tipo que la raíz\n",
    "        # La siguiente línea es equivalente a Arbol(id_nodo, valor, padre) por ahora\n",
    "        nodo = type(self)(id_nodo, valor, padre) # Esto lo ocuparemos cuando sea otra clase que herede de Arbol\n",
    "        # Agregamos el nodo como hijo de su padre\n",
    "        padre.hijos[id_nodo] = nodo\n",
    "        \n",
    "    def __repr__(self):\n",
    "        \"\"\"\n",
    "        Entrega una representación del árbol, en forma recursiva.\n",
    "        \n",
    "        Para ello, tenemos que pedir la representación de cada hijo recursivamente. \n",
    "        Esto nos lleva a recorrer todos los nodos del árbol.\n",
    "        \"\"\"\n",
    "        # Texto de este nodo.\n",
    "        texto = f\"id: {self.id_nodo}, valor: {self.valor}\"\n",
    "        # Si el nodo es hoja, se avisa de ello.\n",
    "        # Si el nodo no es hoja, se deja un salto de línea para poder nombrar a los hijos.\n",
    "        texto += ', nodo hoja' if len(self.hijos) == 0 else '\\n'\n",
    "\n",
    "        # Extrae el repr a cada hijo, en forma recursiva.\n",
    "        repr_hijos = [repr(hijo) for hijo in self.hijos.values()]\n",
    "        \n",
    "        # Indentamos cada línea del texto de los hijos con tres espacios.\n",
    "        # Esto es para que se note el nivel del nodo.\n",
    "        texto_hijos = [indent(texto_hijo, \"   \") for texto_hijo in repr_hijos]\n",
    "        \n",
    "        # Usamos join para juntar todos los strings anteriores con un salto de línea entre cada uno.\n",
    "        return texto + \"\\n\".join(texto_hijos)"
   ]
  },
  {
   "cell_type": "code",
   "execution_count": 10,
   "metadata": {},
   "outputs": [],
   "source": [
    "def cargar_contenido(ruta):\n",
    "    contenido = []\n",
    "    with open(ruta, \"r\", encoding=\"utf-8\") as archivo:\n",
    "        for line in archivo.readlines():\n",
    "            nodo = line.strip().split(\",\")\n",
    "            \n",
    "            if nodo[2] == '0':\n",
    "                indice, valor, padre = int(nodo[0]), nodo[1], int(nodo[2])\n",
    "            else:\n",
    "                indice, valor, padre = int(nodo[0]), nodo[1].split(';'), int(nodo[2])\n",
    "                valor[1] = int(valor[1])\n",
    "            contenido.append([indice, valor, padre])\n",
    "            # print([indice, valor, padre])\n",
    "    return contenido "
   ]
  },
  {
   "cell_type": "markdown",
   "metadata": {},
   "source": [
    "La función anterior retorna una lista de listas con la información de nodos para un árbol, de la forma:\n",
    "```\n",
    "[indice_nodo, valor_nodo, indice_padre_de_nodo]\n",
    "```"
   ]
  },
  {
   "cell_type": "markdown",
   "metadata": {},
   "source": [
    "El objetivo de este ejercicio es descubrir cuál es el álbum de mayor duración del gran **Bad Bunny**, y para lograrlo utilizaremos un árbol. \n",
    "Tendrás que utilizar la clase `Arbol` con sus métodos para construir un árbol con información sobre la discografía de **Bad Bunny**.\n",
    "Específicamente, la raíz del árbol representará al Conejo Malo, sus hijos directos serán los nombres de sus álbums, y los hijos de nodos con álbums son canciones. Para cada canción, se cuenta con su nombre junto a su duración.\n",
    "\n",
    "El valor de los nodos que contienen a las canciones serán de la forma `[nombre_cancion, duracion]` (duración en segundos), en cambio, el valor del resto de los nodos será de la forma `nombre_album`.\n",
    "\n",
    "Para ordenar tu programa, se te entrega una base a continuación. Primero, se instancia el árbol con la raíz: `'El Conejo Malo'`, luego se carga el contenido (`cargar_contenido`) de un archivo CSV con la información estructural del árbol. Luego se llama a `completar_arbol` que completa el árbol creado a partir de los datos cargados, y finalmente se llama a `encontrar_max_duracion` que recorre el árbol y **retorna la canción con mayor duración** contenida.\n",
    "\n",
    "Debes completar las funciones `completar_arbol(arbol, contenido)` y `encontrar_max_duracion(arbol)` para lograr el importante objetivo de este ejercicio."
   ]
  },
  {
   "cell_type": "code",
   "execution_count": 19,
   "metadata": {},
   "outputs": [],
   "source": [
    "def completar_arbol(arbol, contenido):\n",
    "    for elemento in contenido:\n",
    "        arbol.agregar_nodo(*elemento)\n",
    "    print(arbol)\n",
    "\n",
    "\n",
    "\n",
    "def encontrar_max_duracion(arbol):\n",
    "    por_recorrer=list()\n",
    "    for disco in arbol.hijos.values():\n",
    "        por_recorrer.extend(list(disco.hijos.values()))\n",
    "    cancion_max=[\"nombre\",0]\n",
    "    for cancion in por_recorrer:\n",
    "        if cancion_max[1]<cancion.valor[1]:\n",
    "            cancion_max=cancion.valor\n",
    "    return cancion_max[0]\n",
    "        "
   ]
  },
  {
   "cell_type": "code",
   "execution_count": 20,
   "metadata": {},
   "outputs": [
    {
     "name": "stdout",
     "output_type": "stream",
     "text": [
      "id: 0, valor: El Conejo Malo\n",
      "   id: 1, valor: Las que no iban a salir\n",
      "      id: 5, valor: ['Si ella sale', 143], nodo hoja\n",
      "      id: 6, valor: ['Más de una cita', 183], nodo hoja\n",
      "      id: 7, valor: ['Bye me fui', 178], nodo hoja\n",
      "      id: 8, valor: ['Canción con Yandel', 209], nodo hoja\n",
      "      id: 9, valor: [\"Pa' romperla\", 194], nodo hoja\n",
      "      id: 10, valor: ['Bad con Nicky', 202], nodo hoja\n",
      "      id: 11, valor: ['Bendiciones', 155], nodo hoja\n",
      "      id: 12, valor: ['Cómo se siente (Remix)', 227], nodo hoja\n",
      "      id: 13, valor: ['Ronca Freestyle', 150], nodo hoja\n",
      "      id: 14, valor: ['En casita', 176], nodo hoja\n",
      "   id: 2, valor: YHLQMDLG\n",
      "      id: 15, valor: ['Si veo a tu mamá', 170], nodo hoja\n",
      "      id: 16, valor: ['La difícil', 163], nodo hoja\n",
      "      id: 17, valor: ['Pero ya no', 160], nodo hoja\n",
      "      id: 18, valor: ['La santa', 206], nodo hoja\n",
      "      id: 19, valor: ['Yo perreo sola', 172], nodo hoja\n",
      "      id: 20, valor: ['Bichiyal', 196], nodo hoja\n",
      "      id: 21, valor: ['Soliá', 159], nodo hoja\n",
      "      id: 22, valor: ['La zona', 136], nodo hoja\n",
      "      id: 23, valor: ['Que malo', 167], nodo hoja\n",
      "      id: 24, valor: ['Vete', 192], nodo hoja\n",
      "      id: 25, valor: ['Ignorantes', 210], nodo hoja\n",
      "      id: 26, valor: ['A tu merced', 175], nodo hoja\n",
      "      id: 27, valor: ['Una vez', 232], nodo hoja\n",
      "      id: 28, valor: ['Safaera', 295], nodo hoja\n",
      "      id: 29, valor: ['25/8', 243], nodo hoja\n",
      "      id: 30, valor: ['Está cabrón ser yo', 227], nodo hoja\n",
      "      id: 31, valor: [\"Puesto pa' guerrial\", 190], nodo hoja\n",
      "      id: 32, valor: ['P FKN R', 258], nodo hoja\n",
      "      id: 33, valor: ['Hablamos mañana', 240], nodo hoja\n",
      "      id: 34, valor: ['<3', 157], nodo hoja\n",
      "   id: 3, valor: Oasis\n",
      "      id: 35, valor: ['Mojaita', 187], nodo hoja\n",
      "      id: 36, valor: ['Yo le llego', 249], nodo hoja\n",
      "      id: 37, valor: ['Cuidao por ahí', 198], nodo hoja\n",
      "      id: 38, valor: ['Qué pretendes', 222], nodo hoja\n",
      "      id: 39, valor: ['La canción', 242], nodo hoja\n",
      "      id: 40, valor: ['Un peso', 277], nodo hoja\n",
      "      id: 41, valor: ['Odio', 270], nodo hoja\n",
      "      id: 42, valor: ['Como un bebé', 218], nodo hoja\n",
      "   id: 4, valor: X 100pre\n",
      "      id: 43, valor: ['Ni bien ni mal', 236], nodo hoja\n",
      "      id: 44, valor: ['200 MPH', 171], nodo hoja\n",
      "      id: 45, valor: ['¿Quién tú eres?', 159], nodo hoja\n",
      "      id: 46, valor: ['Caro', 229], nodo hoja\n",
      "      id: 47, valor: ['Tenemos que hablar', 225], nodo hoja\n",
      "      id: 48, valor: ['Otra noche en Miami', 233], nodo hoja\n",
      "      id: 49, valor: ['Ser Bichote', 193], nodo hoja\n",
      "      id: 50, valor: ['Si estuviésemos juntos', 169], nodo hoja\n",
      "      id: 51, valor: ['Solo de mi', 198], nodo hoja\n",
      "      id: 52, valor: ['Cuando perriabas', 189], nodo hoja\n",
      "      id: 53, valor: ['La Romana', 301], nodo hoja\n",
      "      id: 54, valor: ['Como antes', 231], nodo hoja\n",
      "      id: 55, valor: ['RLNDT', 285], nodo hoja\n",
      "      id: 56, valor: ['Estamos bien', 208], nodo hoja\n",
      "      id: 57, valor: ['Mía', 210], nodo hoja\n"
     ]
    },
    {
     "ename": "AttributeError",
     "evalue": "'int' object has no attribute 'hijos'",
     "output_type": "error",
     "traceback": [
      "\u001b[1;31m---------------------------------------------------------------------------\u001b[0m",
      "\u001b[1;31mAttributeError\u001b[0m                            Traceback (most recent call last)",
      "\u001b[1;32mc:\\Users\\Pato\\Desktop\\Universida\\2022-1\\Programacion Avanzada\\ejercicios_propuestos\\S11\\ejercicios_propuestos.ipynb Cell 28\u001b[0m in \u001b[0;36m<cell line: 6>\u001b[1;34m()\u001b[0m\n\u001b[0;32m      <a href='vscode-notebook-cell:/c%3A/Users/Pato/Desktop/Universida/2022-1/Programacion%20Avanzada/ejercicios_propuestos/S11/ejercicios_propuestos.ipynb#X36sZmlsZQ%3D%3D?line=2'>3</a>\u001b[0m contenido \u001b[39m=\u001b[39m cargar_contenido(\u001b[39m'\u001b[39m\u001b[39mbadbunny.csv\u001b[39m\u001b[39m'\u001b[39m)\n\u001b[0;32m      <a href='vscode-notebook-cell:/c%3A/Users/Pato/Desktop/Universida/2022-1/Programacion%20Avanzada/ejercicios_propuestos/S11/ejercicios_propuestos.ipynb#X36sZmlsZQ%3D%3D?line=4'>5</a>\u001b[0m completar_arbol(bad_bunny, contenido)\n\u001b[1;32m----> <a href='vscode-notebook-cell:/c%3A/Users/Pato/Desktop/Universida/2022-1/Programacion%20Avanzada/ejercicios_propuestos/S11/ejercicios_propuestos.ipynb#X36sZmlsZQ%3D%3D?line=5'>6</a>\u001b[0m encontrar_max_duracion(bad_bunny)\n",
      "\u001b[1;32mc:\\Users\\Pato\\Desktop\\Universida\\2022-1\\Programacion Avanzada\\ejercicios_propuestos\\S11\\ejercicios_propuestos.ipynb Cell 28\u001b[0m in \u001b[0;36mencontrar_max_duracion\u001b[1;34m(arbol)\u001b[0m\n\u001b[0;32m      <a href='vscode-notebook-cell:/c%3A/Users/Pato/Desktop/Universida/2022-1/Programacion%20Avanzada/ejercicios_propuestos/S11/ejercicios_propuestos.ipynb#X36sZmlsZQ%3D%3D?line=8'>9</a>\u001b[0m por_recorrer\u001b[39m=\u001b[39m\u001b[39mlist\u001b[39m()\n\u001b[0;32m     <a href='vscode-notebook-cell:/c%3A/Users/Pato/Desktop/Universida/2022-1/Programacion%20Avanzada/ejercicios_propuestos/S11/ejercicios_propuestos.ipynb#X36sZmlsZQ%3D%3D?line=9'>10</a>\u001b[0m \u001b[39mfor\u001b[39;00m disco \u001b[39min\u001b[39;00m arbol\u001b[39m.\u001b[39mhijos:\n\u001b[1;32m---> <a href='vscode-notebook-cell:/c%3A/Users/Pato/Desktop/Universida/2022-1/Programacion%20Avanzada/ejercicios_propuestos/S11/ejercicios_propuestos.ipynb#X36sZmlsZQ%3D%3D?line=10'>11</a>\u001b[0m     por_recorrer\u001b[39m.\u001b[39mextend(\u001b[39mlist\u001b[39m(disco\u001b[39m.\u001b[39;49mhijos\u001b[39m.\u001b[39mvalues()))\n\u001b[0;32m     <a href='vscode-notebook-cell:/c%3A/Users/Pato/Desktop/Universida/2022-1/Programacion%20Avanzada/ejercicios_propuestos/S11/ejercicios_propuestos.ipynb#X36sZmlsZQ%3D%3D?line=11'>12</a>\u001b[0m cancion_max\u001b[39m=\u001b[39m[\u001b[39m\"\u001b[39m\u001b[39mnombre\u001b[39m\u001b[39m\"\u001b[39m,\u001b[39m0\u001b[39m]\n\u001b[0;32m     <a href='vscode-notebook-cell:/c%3A/Users/Pato/Desktop/Universida/2022-1/Programacion%20Avanzada/ejercicios_propuestos/S11/ejercicios_propuestos.ipynb#X36sZmlsZQ%3D%3D?line=12'>13</a>\u001b[0m \u001b[39mfor\u001b[39;00m cancion \u001b[39min\u001b[39;00m por_recorrer:\n",
      "\u001b[1;31mAttributeError\u001b[0m: 'int' object has no attribute 'hijos'"
     ]
    }
   ],
   "source": [
    "bad_bunny = Arbol(0, 'El Conejo Malo')\n",
    "\n",
    "contenido = cargar_contenido('badbunny.csv')\n",
    "\n",
    "completar_arbol(bad_bunny, contenido)\n",
    "encontrar_max_duracion(bad_bunny)"
   ]
  },
  {
   "cell_type": "markdown",
   "metadata": {},
   "source": [
    "### Ejercicio 2.2: Implementar un Árbol Binario."
   ]
  },
  {
   "cell_type": "markdown",
   "metadata": {},
   "source": [
    "Debes implementar el mencionado árbol binario de los contenidos. Es bastante similar al caso genérico ya presentado, pero con la diferencia de que en vez de tener una estructura interna `self.hijos` para almecenar cualquier cantidad de hijos, debe tener dos referencias directas a sub-árboles binarios: `self.hijo_izquierdo` y `self.hijo_derecho`. Esto cambia levemente las implementaciones de `obtener_nodo`, `agregar_nodo` y `__repr__`. Notar que también cambian los argumentos de `agregar_nodo`, ya que es necesario incluir en cual posición se agrega el hijo, si como izquierdo o derecho. \n",
    "\n",
    "A continuación se agregan la base de la clase junto con código de ejemplo para usar."
   ]
  },
  {
   "cell_type": "code",
   "execution_count": 13,
   "metadata": {},
   "outputs": [],
   "source": [
    "# textwrap tiene varias funciones convenientes para el manejo de strings\n",
    "from textwrap import indent\n",
    "\n",
    "class ArbolBinario:\n",
    "    def __init__(self, id_nodo, valor=None, padre=None):\n",
    "        self.id_nodo = id_nodo\n",
    "        self.padre = padre\n",
    "        self.valor = valor\n",
    "        self.hijo_izquierdo = None\n",
    "        self.hijo_derecho = None\n",
    "        \n",
    "    def obtener_nodo(self, id_nodo):\n",
    "        \"\"\"Obtiene el nodo con el id dado\"\"\"\n",
    "        if id_nodo==self.id_nodo:\n",
    "            return self\n",
    "\n",
    "        for hijo in (self.hijo_derecho,self.hijo_izquierdo):\n",
    "            nodo = hijo.obtener_nodo(id_nodo)\n",
    "            if nodo is not None:\n",
    "                return nodo\n",
    "\n",
    "        return None\n",
    "        \n",
    "\n",
    "\n",
    "    def agregar_nodo(self, id_nodo, valor, id_padre, orientacion):\n",
    "        \"\"\"Agrega un nodo con el id y valor dado, como hijo del nodo con el id 'id_padre'\"\"\"\n",
    "        padre= self.obtener_nodo(id_padre)\n",
    "        nodo_nuevo=ArbolBinario(id_nodo,valor,padre)\n",
    "        if orientacion==\"Derecha\":\n",
    "            padre.hijo_derecho=nodo_nuevo\n",
    "        else:\n",
    "            padre.hijo_izquierdo=nodo_nuevo\n",
    "        \n",
    "    def __repr__(self):\n",
    "        \"\"\"Entrega una representación del árbol\"\"\"\n",
    "        "
   ]
  },
  {
   "cell_type": "markdown",
   "metadata": {},
   "source": [
    "### Ejercicio 2.3: Implementar una búsqueda BFS con profundidad máxima."
   ]
  },
  {
   "cell_type": "markdown",
   "metadata": {},
   "source": [
    "En este ejercicio debes implementar una forma de búsqueda que combina BFS con búsqueda en profundidad.\n",
    "\n",
    "Concretamente tienes que reimplementar el método `iter` para que itere sobre los nodos del árbol siguiendo un orden BFS, pero ahora de tal forma que **no sólo** retorne nodos, si no que también la profundidad a las que se encuentra cada uno. La profundidad en este contexto corresponde a la cantidad de conexiones que se encuentra un nodo de la raiz. La raiz entonces se encuentra a profundidad **`0`**, sus hijos a profundidad `1`, y así sucesivamente...\n",
    "\n",
    "Luego, tienes que implementar `bfs_con_profundidad` que recibe `profundidad_max` como argumento. El método recorre los nodos del árbol cuya profundidad es menor que el `profundidad_max` y siguendo el orden entregado por `__iter__`."
   ]
  },
  {
   "cell_type": "code",
   "execution_count": 14,
   "metadata": {},
   "outputs": [],
   "source": [
    "from collections import deque\n",
    "\n",
    "# Arbol es la clase original de Arbol del material.\n",
    "# Si deseas probar tu código, copia y pega la implementación antes.\n",
    "# Así podrás construir un árbol correctamente antes de recorrerlo.\n",
    "class ArbolDBFS(Arbol):\n",
    "    \n",
    "    def __iter__(self):    \n",
    "        \"\"\"Completar aquí. Puedes modificar el iter original del BFS!\"\"\"\n",
    "    \n",
    "    def bfs_con_profundidad(self, profundidad_max):\n",
    "        \"\"\"Completar aquí\"\"\""
   ]
  },
  {
   "cell_type": "markdown",
   "metadata": {},
   "source": [
    "## 3. Ejemplos"
   ]
  },
  {
   "cell_type": "markdown",
   "metadata": {},
   "source": [
    "### Ejercicio 3.1: Modelando *stacks*"
   ]
  },
  {
   "cell_type": "markdown",
   "metadata": {},
   "source": [
    "Si recordamos las estructuras secuenciales revisadas en el material de estructuras *built-ins*, una de ellas eran los *stacks*. Los *stacks* o pilas son estructuras de orden lineal, similar a las listas, pero cuya propiedad era que seguían el orden LIFO: el último elemento en agregarse, es el primero en sacarse. Se le llama tope de la pila al último elemento que fue agregado, y que será el próximo en salir si se le pide.\n",
    "\n",
    "A continuación se te entregan clases para nodos de *stack* y de *stack*. Debes completar `Stack` para modelar e imitar el comportamiento de un *stack* utlizando referencias nodales, sin el uso de listas u otras estructuras secuenciales ya construidas. Se te entregan todos los atributos necesarios para lograr modelarlo."
   ]
  },
  {
   "cell_type": "code",
   "execution_count": 15,
   "metadata": {},
   "outputs": [],
   "source": [
    "class NodoStack:\n",
    "    \n",
    "    def __init__(self, valor=None):\n",
    "        self.valor = valor\n",
    "        self.anterior = None\n",
    "\n",
    "class Stack:\n",
    "    \n",
    "    def __init__(self):\n",
    "        self.tope = None\n",
    "    \n",
    "    def push(self, valor):\n",
    "        \"\"\"Agrega un elemento al tope del stack\"\"\"\n",
    "        nodo=NodoStack(valor)\n",
    "        nodo.anterior=self.tope\n",
    "        self.tope=nodo\n",
    "        print(f'se agregó {valor}')\n",
    "    \n",
    "    def pop(self):\n",
    "        \"\"\"Retorna y extrae el elemento del tope del stack\"\"\"\n",
    "        if self.is_empty():\n",
    "            return None\n",
    "        sacar=self.tope\n",
    "        self.tope=sacar.anterior\n",
    "        sacar.anterior=None\n",
    "        return sacar.valor\n",
    "    \n",
    "            \n",
    "    \n",
    "    def peek(self):\n",
    "        \"\"\"Retorna el elemento del tope del _stack_ sin extraerlo de la estructura\"\"\"\n",
    "        if self.is_empty():\n",
    "            return None\n",
    "        return self.tope.valor\n",
    "    \n",
    "    def is_empty(self):\n",
    "        \"\"\"Retorna True si el stack está vacío\"\"\"\n",
    "        if self.tope is None:\n",
    "            return True\n",
    "        return False\n",
    "    "
   ]
  },
  {
   "cell_type": "code",
   "execution_count": 16,
   "metadata": {},
   "outputs": [
    {
     "name": "stdout",
     "output_type": "stream",
     "text": [
      "se agregó 1\n",
      "se agregó 2\n",
      "se agregó 3\n",
      "se agregó 4\n",
      "se agregó 5\n",
      "5\n",
      "4\n",
      "se agregó 6\n",
      "6\n",
      "se agregó 7\n",
      "7\n",
      "6\n",
      "3\n",
      "False\n"
     ]
    }
   ],
   "source": [
    "mi_stack = Stack()\n",
    "mi_stack.push(1) # 1\n",
    "mi_stack.push(2) # 1, 2\n",
    "mi_stack.push(3) # 1, 2, 3\n",
    "mi_stack.push(4) # 1, 2, 3, 4\n",
    "mi_stack.push(5) # 1, 2, 3, 4, 5\n",
    "print(mi_stack.pop()) # 5\n",
    "print(mi_stack.pop()) # 4\n",
    "mi_stack.push(6) # 1, 2, 3, 6\n",
    "print(mi_stack.peek()) # 6\n",
    "mi_stack.push(7) # 1, 2, 3, 6, 7\n",
    "print(mi_stack.pop()) # 7\n",
    "print(mi_stack.pop()) # 6\n",
    "print(mi_stack.pop()) # 3\n",
    "print(mi_stack.is_empty()) # False"
   ]
  },
  {
   "cell_type": "markdown",
   "metadata": {},
   "source": [
    "### Ejercicio 3.2: Lista Ligada 2.0"
   ]
  },
  {
   "cell_type": "markdown",
   "metadata": {},
   "source": [
    "La modelación vista hasta el momento para listas ligadas, utiliza nodos para encapsular los valores en cada posición y relacionarlos: el objeto siguiente a un nodo, también es un nodo. Pero por el otro lado, los árboles se modelan de forma recursiva para mantener referencias entre ellos: los hijos de un árbol son árboles.\n",
    "\n",
    "Las listas ligadas también pueden verse como una estructura recursiva: cada una contiene el valor almacenado en su cabeza, y tiene de referencia a otra sub-lista, de menor tamaño y cuya cabeza contiene el siguiente valor de la lista completa.\n",
    "\n",
    "En este ejercicio debes implementar una estructura recursiva para una lista ligada, y que del mismo modo, sea capaz de relacionar cada uno de sus nodos con aquellos que están adyacentes."
   ]
  },
  {
   "cell_type": "code",
   "execution_count": 17,
   "metadata": {},
   "outputs": [],
   "source": [
    "class ListaRecursiva:\n",
    "\n",
    "\n",
    "    def __init__(self):\n",
    "        self.valor = None\n",
    "        self.siguiente = None\n",
    "\n",
    "    def agregar(self, valor):\n",
    "        '''\n",
    "        Metodo que instancia cada nodo\n",
    "        dependiendo de si existe alguno adyacente a él \n",
    "        o no.\n",
    "        '''\n",
    "        if self.valor is None:\n",
    "            self.valor=valor\n",
    "            return\n",
    "        elif self.siguiente is None:\n",
    "            self.siguiente = ListaRecursiva()\n",
    "            self.siguiente.valor=valor\n",
    "        else:\n",
    "            self.siguiente.agregar(valor)\n",
    "\n",
    "        \n",
    "\n",
    "    \n",
    "    def __repr__(self):\n",
    "        '''\n",
    "        Método para representación de la lista.\n",
    "        '''\n",
    "        return str(self.valor)+\"->\"+repr(self.siguiente)\n",
    "        \n",
    "\n",
    "    def obtener(self, posicion):\n",
    "        actual=self\n",
    "        for _ in range(posicion):\n",
    "            actual=actual.siguiente\n",
    "        return actual.valor\n",
    "        \n",
    "        \n"
   ]
  },
  {
   "cell_type": "code",
   "execution_count": 18,
   "metadata": {},
   "outputs": [
    {
     "name": "stdout",
     "output_type": "stream",
     "text": [
      "1->None\n",
      "1->2->None\n",
      "1->2->3->None\n",
      "1->2->3->4->None\n",
      "1\n",
      "3\n",
      "4\n"
     ]
    }
   ],
   "source": [
    "lista = ListaRecursiva()\n",
    "lista.agregar(1)\n",
    "print(lista)\n",
    "lista.agregar(2)\n",
    "print(lista)\n",
    "lista.agregar(3)\n",
    "print(lista)\n",
    "lista.agregar(4)\n",
    "print(lista)\n",
    "\n",
    "print(lista.obtener(0))\n",
    "print(lista.obtener(2))\n",
    "print(lista.obtener(3))"
   ]
  }
 ],
 "metadata": {
  "interpreter": {
   "hash": "3f17306e7d2cb3af2234d421104d8b0dc3dd1fc08bbb60e5010bc77bb79a25a8"
  },
  "kernelspec": {
   "display_name": "Python 3.8.10 64-bit",
   "language": "python",
   "name": "python3"
  },
  "language_info": {
   "codemirror_mode": {
    "name": "ipython",
    "version": 3
   },
   "file_extension": ".py",
   "mimetype": "text/x-python",
   "name": "python",
   "nbconvert_exporter": "python",
   "pygments_lexer": "ipython3",
   "version": "3.8.10"
  }
 },
 "nbformat": 4,
 "nbformat_minor": 2
}
